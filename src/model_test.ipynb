{
 "cells": [
  {
   "cell_type": "code",
   "execution_count": 39,
   "metadata": {},
   "outputs": [],
   "source": [
    "# importing required libraries\n",
    "\n",
    "from tensorflow import keras\n",
    "import os \n",
    "from pathlib import Path"
   ]
  },
  {
   "cell_type": "code",
   "execution_count": 40,
   "metadata": {},
   "outputs": [
    {
     "name": "stdout",
     "output_type": "stream",
     "text": [
      "Model: \"model_3\"\n",
      "_________________________________________________________________\n",
      "Layer (type)                 Output Shape              Param #   \n",
      "=================================================================\n",
      "input_7 (InputLayer)         [(None, 224, 224, 3)]     0         \n",
      "_________________________________________________________________\n",
      "vgg16 (Functional)           (None, 7, 7, 512)         14714688  \n",
      "_________________________________________________________________\n",
      "global_average_pooling2d_3 ( (None, 512)               0         \n",
      "_________________________________________________________________\n",
      "dense_3 (Dense)              (None, 6)                 3078      \n",
      "=================================================================\n",
      "Total params: 14,717,766\n",
      "Trainable params: 3,078\n",
      "Non-trainable params: 14,714,688\n",
      "_________________________________________________________________\n"
     ]
    }
   ],
   "source": [
    "modelPath = os.path.join(Path(os.path.realpath(\"__file__\")).parent.parent, \"assets/model/hand_gesture_classify_model.h5\")\n",
    "\n",
    "model = keras.models.load_model(modelPath)\n",
    "\n",
    "model.summary()"
   ]
  },
  {
   "cell_type": "code",
   "execution_count": 41,
   "metadata": {},
   "outputs": [
    {
     "name": "stdout",
     "output_type": "stream",
     "text": [
      "Found 45 images belonging to 6 classes.\n",
      "45/45 [==============================] - 8s 163ms/step - loss: 5.0427 - accuracy: 0.3556\n"
     ]
    },
    {
     "data": {
      "text/plain": [
       "[5.042684078216553, 0.35555556416511536]"
      ]
     },
     "execution_count": 41,
     "metadata": {},
     "output_type": "execute_result"
    }
   ],
   "source": [
    "# TESTING the model\n",
    "\n",
    "# Augment the Data \n",
    "datagen = keras.preprocessing.image.ImageDataGenerator(\n",
    "        samplewise_center = True,  # set each sample mean to 0\n",
    "        rotation_range = 10,  # randomly rotate images in the range (degrees, 0 to 180)\n",
    "        zoom_range = 0.1, # Randomly zoom image \n",
    "        width_shift_range = 0.1,  # randomly shift images horizontally (fraction of total width)\n",
    "        height_shift_range = 0.1,  # randomly shift images vertically (fraction of total height)\n",
    "        horizontal_flip = True,  # randomly flip images\n",
    "        vertical_flip = True)\n",
    "\n",
    "# load and iterate testing dataset\n",
    "dirPath = os.path.join(Path(os.path.realpath(\"__file__\")).parent.parent, \"assets/data\")\n",
    "test_it = datagen.flow_from_directory(dirPath + \"/test\", \n",
    "                                      target_size = (224, 224), \n",
    "                                      color_mode = 'rgb', \n",
    "                                      class_mode = \"categorical\",\n",
    "                                      batch_size = 1)\n",
    "\n",
    "model.evaluate(test_it, steps = test_it.samples/test_it.batch_size)"
   ]
  }
 ],
 "metadata": {
  "interpreter": {
   "hash": "b8faac6697ff08ca13c6594d64150444e1b6c00188fbe85cd77821cf7a94b193"
  },
  "kernelspec": {
   "display_name": "Python 3 (ipykernel)",
   "language": "python",
   "name": "python3"
  },
  "language_info": {
   "codemirror_mode": {
    "name": "ipython",
    "version": 3
   },
   "file_extension": ".py",
   "mimetype": "text/x-python",
   "name": "python",
   "nbconvert_exporter": "python",
   "pygments_lexer": "ipython3",
   "version": "3.9.4"
  }
 },
 "nbformat": 4,
 "nbformat_minor": 2
}

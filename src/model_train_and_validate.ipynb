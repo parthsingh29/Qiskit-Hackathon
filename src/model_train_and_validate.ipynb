{
 "cells": [
  {
   "cell_type": "code",
   "execution_count": 2,
   "metadata": {},
   "outputs": [],
   "source": [
    "# importing required libraries\n",
    "from tensorflow import keras\n",
    "import os \n",
    "from pathlib import Path"
   ]
  },
  {
   "cell_type": "code",
   "execution_count": 34,
   "metadata": {},
   "outputs": [
    {
     "name": "stdout",
     "output_type": "stream",
     "text": [
      "Model: \"vgg16\"\n",
      "_________________________________________________________________\n",
      "Layer (type)                 Output Shape              Param #   \n",
      "=================================================================\n",
      "input_6 (InputLayer)         [(None, 224, 224, 3)]     0         \n",
      "_________________________________________________________________\n",
      "block1_conv1 (Conv2D)        (None, 224, 224, 64)      1792      \n",
      "_________________________________________________________________\n",
      "block1_conv2 (Conv2D)        (None, 224, 224, 64)      36928     \n",
      "_________________________________________________________________\n",
      "block1_pool (MaxPooling2D)   (None, 112, 112, 64)      0         \n",
      "_________________________________________________________________\n",
      "block2_conv1 (Conv2D)        (None, 112, 112, 128)     73856     \n",
      "_________________________________________________________________\n",
      "block2_conv2 (Conv2D)        (None, 112, 112, 128)     147584    \n",
      "_________________________________________________________________\n",
      "block2_pool (MaxPooling2D)   (None, 56, 56, 128)       0         \n",
      "_________________________________________________________________\n",
      "block3_conv1 (Conv2D)        (None, 56, 56, 256)       295168    \n",
      "_________________________________________________________________\n",
      "block3_conv2 (Conv2D)        (None, 56, 56, 256)       590080    \n",
      "_________________________________________________________________\n",
      "block3_conv3 (Conv2D)        (None, 56, 56, 256)       590080    \n",
      "_________________________________________________________________\n",
      "block3_pool (MaxPooling2D)   (None, 28, 28, 256)       0         \n",
      "_________________________________________________________________\n",
      "block4_conv1 (Conv2D)        (None, 28, 28, 512)       1180160   \n",
      "_________________________________________________________________\n",
      "block4_conv2 (Conv2D)        (None, 28, 28, 512)       2359808   \n",
      "_________________________________________________________________\n",
      "block4_conv3 (Conv2D)        (None, 28, 28, 512)       2359808   \n",
      "_________________________________________________________________\n",
      "block4_pool (MaxPooling2D)   (None, 14, 14, 512)       0         \n",
      "_________________________________________________________________\n",
      "block5_conv1 (Conv2D)        (None, 14, 14, 512)       2359808   \n",
      "_________________________________________________________________\n",
      "block5_conv2 (Conv2D)        (None, 14, 14, 512)       2359808   \n",
      "_________________________________________________________________\n",
      "block5_conv3 (Conv2D)        (None, 14, 14, 512)       2359808   \n",
      "_________________________________________________________________\n",
      "block5_pool (MaxPooling2D)   (None, 7, 7, 512)         0         \n",
      "=================================================================\n",
      "Total params: 14,714,688\n",
      "Trainable params: 14,714,688\n",
      "Non-trainable params: 0\n",
      "_________________________________________________________________\n"
     ]
    }
   ],
   "source": [
    "# downloading the ImageNet model with output layer removed and input shape (224, 224, 3)\n",
    "base_model = keras.applications.VGG16(\n",
    "    weights = 'imagenet',\n",
    "    input_shape = (224, 224, 3),\n",
    "    include_top = False)\n",
    " \n",
    "base_model.summary()"
   ]
  },
  {
   "cell_type": "code",
   "execution_count": 35,
   "metadata": {},
   "outputs": [],
   "source": [
    "# Freeze base model\n",
    "base_model.trainable = False"
   ]
  },
  {
   "cell_type": "code",
   "execution_count": 36,
   "metadata": {},
   "outputs": [
    {
     "name": "stdout",
     "output_type": "stream",
     "text": [
      "Model: \"model_3\"\n",
      "_________________________________________________________________\n",
      "Layer (type)                 Output Shape              Param #   \n",
      "=================================================================\n",
      "input_7 (InputLayer)         [(None, 224, 224, 3)]     0         \n",
      "_________________________________________________________________\n",
      "vgg16 (Functional)           (None, 7, 7, 512)         14714688  \n",
      "_________________________________________________________________\n",
      "global_average_pooling2d_3 ( (None, 512)               0         \n",
      "_________________________________________________________________\n",
      "dense_3 (Dense)              (None, 6)                 3078      \n",
      "=================================================================\n",
      "Total params: 14,717,766\n",
      "Trainable params: 3,078\n",
      "Non-trainable params: 14,714,688\n",
      "_________________________________________________________________\n"
     ]
    }
   ],
   "source": [
    "# Create inputs with correct shape\n",
    "inputs = keras.Input(shape=(224, 224, 3))\n",
    "\n",
    "x = base_model(inputs, training=False)\n",
    "\n",
    "# Add pooling layer or flatten layer\n",
    "x = keras.layers.GlobalAveragePooling2D()(x)\n",
    "\n",
    "# Add final dense layer\n",
    "outputs = keras.layers.Dense(6, activation = 'softmax')(x)\n",
    "\n",
    "# Combine inputs and outputs to create model\n",
    "model = keras.Model(inputs, outputs)\n",
    "\n",
    "model.summary()"
   ]
  },
  {
   "cell_type": "code",
   "execution_count": 37,
   "metadata": {},
   "outputs": [],
   "source": [
    "# compile the model\n",
    "model.compile(loss='categorical_crossentropy', metrics=['accuracy'])"
   ]
  },
  {
   "cell_type": "code",
   "execution_count": 38,
   "metadata": {},
   "outputs": [],
   "source": [
    "# Augment the Data \n",
    "datagen = keras.preprocessing.image.ImageDataGenerator(\n",
    "        samplewise_center = True,  # set each sample mean to 0\n",
    "        rotation_range = 10,  # randomly rotate images in the range (degrees, 0 to 180)\n",
    "        zoom_range = 0.1, # Randomly zoom image \n",
    "        width_shift_range = 0.1,  # randomly shift images horizontally (fraction of total width)\n",
    "        height_shift_range = 0.1,  # randomly shift images vertically (fraction of total height)\n",
    "        horizontal_flip = True,  # randomly flip images\n",
    "        vertical_flip = True)"
   ]
  },
  {
   "cell_type": "code",
   "execution_count": 39,
   "metadata": {},
   "outputs": [
    {
     "name": "stdout",
     "output_type": "stream",
     "text": [
      "Found 1320 images belonging to 6 classes.\n",
      "Found 162 images belonging to 6 classes.\n"
     ]
    }
   ],
   "source": [
    "# load and iterate training dataset\n",
    "dirPath = os.path.join(Path(os.path.realpath(\"__file__\")).parent.parent, \"assets/data\")\n",
    "train_it = datagen.flow_from_directory(dirPath + \"/train\", \n",
    "                                       target_size = (224, 224), \n",
    "                                       color_mode = 'rgb', \n",
    "                                       class_mode = \"categorical\",\n",
    "                                       batch_size = 8)\n",
    "# load and iterate validation dataset\n",
    "valid_it = datagen.flow_from_directory(dirPath + \"/valid\", \n",
    "                                       target_size = (224, 224), \n",
    "                                       color_mode = 'rgb', \n",
    "                                       class_mode = \"categorical\",\n",
    "                                       batch_size = 8)"
   ]
  },
  {
   "cell_type": "code",
   "execution_count": 40,
   "metadata": {},
   "outputs": [
    {
     "name": "stdout",
     "output_type": "stream",
     "text": [
      "Epoch 1/15\n",
      "165/165 [==============================] - 277s 2s/step - loss: 1.5625 - accuracy: 0.4727 - val_loss: 0.7758 - val_accuracy: 0.6914\n",
      "Epoch 2/15\n",
      "165/165 [==============================] - 297s 2s/step - loss: 0.7354 - accuracy: 0.7500 - val_loss: 0.5593 - val_accuracy: 0.8025\n",
      "Epoch 3/15\n",
      "165/165 [==============================] - 286s 2s/step - loss: 0.4640 - accuracy: 0.8273 - val_loss: 0.5164 - val_accuracy: 0.7840\n",
      "Epoch 4/15\n",
      "165/165 [==============================] - 287s 2s/step - loss: 0.3569 - accuracy: 0.8705 - val_loss: 0.3721 - val_accuracy: 0.8765\n",
      "Epoch 5/15\n",
      "165/165 [==============================] - 288s 2s/step - loss: 0.3107 - accuracy: 0.8833 - val_loss: 0.3600 - val_accuracy: 0.8704\n",
      "Epoch 6/15\n",
      "165/165 [==============================] - 300s 2s/step - loss: 0.2433 - accuracy: 0.9152 - val_loss: 0.2955 - val_accuracy: 0.8951\n",
      "Epoch 7/15\n",
      "165/165 [==============================] - 302s 2s/step - loss: 0.2134 - accuracy: 0.9189 - val_loss: 0.2475 - val_accuracy: 0.9012\n",
      "Epoch 8/15\n",
      "165/165 [==============================] - 286s 2s/step - loss: 0.1963 - accuracy: 0.9356 - val_loss: 0.2377 - val_accuracy: 0.9074\n",
      "Epoch 9/15\n",
      "165/165 [==============================] - 275s 2s/step - loss: 0.1755 - accuracy: 0.9341 - val_loss: 0.2333 - val_accuracy: 0.9136\n",
      "Epoch 10/15\n",
      "165/165 [==============================] - 280s 2s/step - loss: 0.1651 - accuracy: 0.9477 - val_loss: 0.2181 - val_accuracy: 0.9321\n",
      "Epoch 11/15\n",
      "165/165 [==============================] - 294s 2s/step - loss: 0.1573 - accuracy: 0.9492 - val_loss: 0.2080 - val_accuracy: 0.9074\n",
      "Epoch 12/15\n",
      "165/165 [==============================] - 286s 2s/step - loss: 0.1474 - accuracy: 0.9477 - val_loss: 0.2232 - val_accuracy: 0.9074\n",
      "Epoch 13/15\n",
      "165/165 [==============================] - 295s 2s/step - loss: 0.1415 - accuracy: 0.9492 - val_loss: 0.1939 - val_accuracy: 0.9198\n",
      "Epoch 14/15\n",
      "165/165 [==============================] - 311s 2s/step - loss: 0.1343 - accuracy: 0.9598 - val_loss: 0.2054 - val_accuracy: 0.9321\n",
      "Epoch 15/15\n",
      "165/165 [==============================] - 290s 2s/step - loss: 0.1074 - accuracy: 0.9606 - val_loss: 0.1176 - val_accuracy: 0.9753\n"
     ]
    },
    {
     "data": {
      "text/plain": [
       "<keras.callbacks.History at 0x1d2d68adc10>"
      ]
     },
     "execution_count": 40,
     "metadata": {},
     "output_type": "execute_result"
    }
   ],
   "source": [
    "# Train the Model\n",
    "model.fit(train_it,\n",
    "          validation_data = valid_it,\n",
    "          steps_per_epoch = train_it.samples/train_it.batch_size,\n",
    "          validation_steps = valid_it.samples/valid_it.batch_size,\n",
    "          epochs = 15)"
   ]
  },
  {
   "cell_type": "code",
   "execution_count": 41,
   "metadata": {},
   "outputs": [],
   "source": [
    "# # Unfreeze the base model\n",
    "# base_model.trainable = True\n",
    "\n",
    "# # Compile the model with a low learning rate\n",
    "# model.compile(optimizer=keras.optimizers.RMSprop(learning_rate = 0.0001),\n",
    "#               loss='categorical_crossentropy', metrics=['accuracy'])"
   ]
  },
  {
   "cell_type": "code",
   "execution_count": 42,
   "metadata": {},
   "outputs": [],
   "source": [
    "# model.fit(train_it,\n",
    "#           validation_data = valid_it,\n",
    "#           steps_per_epoch = train_it.samples/train_it.batch_size,\n",
    "#           validation_steps = valid_it.samples/valid_it.batch_size,\n",
    "#           epochs = 8)"
   ]
  },
  {
   "cell_type": "code",
   "execution_count": 47,
   "metadata": {},
   "outputs": [],
   "source": [
    "# saving the trained model\n",
    "dirPath = os.path.join(Path(os.path.realpath(\"__file__\")).parent.parent, \"assets/model\")\n",
    "if not os.path.exists(dirPath): os.makedirs(dirPath)\n",
    "    \n",
    "model.save(dirPath + \"/hand_gesture_classify_model.h5\")"
   ]
  }
 ],
 "metadata": {
  "interpreter": {
   "hash": "b8faac6697ff08ca13c6594d64150444e1b6c00188fbe85cd77821cf7a94b193"
  },
  "kernelspec": {
   "display_name": "Python 3 (ipykernel)",
   "language": "python",
   "name": "python3"
  },
  "language_info": {
   "codemirror_mode": {
    "name": "ipython",
    "version": 3
   },
   "file_extension": ".py",
   "mimetype": "text/x-python",
   "name": "python",
   "nbconvert_exporter": "python",
   "pygments_lexer": "ipython3",
   "version": "3.9.4"
  }
 },
 "nbformat": 4,
 "nbformat_minor": 2
}
